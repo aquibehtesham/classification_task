{
 "cells": [
  {
   "cell_type": "code",
   "execution_count": 1,
   "metadata": {},
   "outputs": [],
   "source": [
    "# Python code to illustrate classification using data set \n",
    "\n",
    "import pandas as pd \n",
    "dataset = pd.read_csv(\"iris_data.csv\", index_col=\"Unnamed: 0\")\n",
    "data = dataset.iloc[:, :] "
   ]
  },
  {
   "cell_type": "code",
   "execution_count": 2,
   "metadata": {},
   "outputs": [],
   "source": [
    "#seperating the predicting column from the whole dataset (taking numpy.ndarray)\n",
    "\n",
    "X = data.iloc[:, :-1].values        #dependent columns (input_features)  (already in numbers format)\n",
    "y = dataset.iloc[:, 4].values       #independent column (output_class)   (it is in english text-- need to convert into numbers)"
   ]
  },
  {
   "cell_type": "code",
   "execution_count": 3,
   "metadata": {},
   "outputs": [],
   "source": [
    "from sklearn.preprocessing import LabelEncoder \n",
    "\n",
    "#Encoding the output_class to numbers (total 3 unique class)\n",
    "labelencoder_y = LabelEncoder() \n",
    "encoded_y = labelencoder_y.fit_transform(y) "
   ]
  },
  {
   "cell_type": "code",
   "execution_count": 4,
   "metadata": {},
   "outputs": [],
   "source": [
    "from sklearn.model_selection import train_test_split\n",
    "\n",
    "#Splitting the data into test and train dataset \n",
    "X_train, X_test, y_train, y_test = train_test_split(X, encoded_y, test_size = 0.3, random_state = 0) \n",
    "\n",
    "#random_state = 0, if we put same number, we will get same split always\n",
    "#test_size = 0.3, means 30% of all data will be considered as test_data"
   ]
  },
  {
   "cell_type": "markdown",
   "metadata": {},
   "source": [
    ">> 9 different classification algorithms:\n",
    "    \n",
    "    1. RandomForest - Ensemble method\n",
    "    2. XGBoost\n",
    "    3. SVM (Support Vector Machine) Classifier\n",
    "    4. Nearest Neighbors Classifier\n",
    "    5. Decision tree\n",
    "    6. SGD (Stochastic Gradient Descent) classifier\n",
    "    7. Gaussian Naive Bayes\n",
    "    8. MLP (Multi-layer Perceptron) Neural network\n",
    "    9. Gaussian Process Classifier"
   ]
  },
  {
   "cell_type": "code",
   "execution_count": 5,
   "metadata": {},
   "outputs": [
    {
     "name": "stdout",
     "output_type": "stream",
     "text": [
      "Confusion Matrix :\n",
      "[[16  0  0]\n",
      " [ 0 17  1]\n",
      " [ 0  0 11]]\n",
      "Accuracy Score : 0.9777777777777777\n",
      "Report : \n",
      "              precision    recall  f1-score   support\n",
      "\n",
      "           0       1.00      1.00      1.00        16\n",
      "           1       1.00      0.94      0.97        18\n",
      "           2       0.92      1.00      0.96        11\n",
      "\n",
      "    accuracy                           0.98        45\n",
      "   macro avg       0.97      0.98      0.98        45\n",
      "weighted avg       0.98      0.98      0.98        45\n",
      "\n",
      "Predict class for input [5.8, 2.8, 5.1, 2.4] :  Iris-virginica\n"
     ]
    }
   ],
   "source": [
    "#Using the random forest classifier for the prediction \n",
    "from sklearn.ensemble import RandomForestClassifier \n",
    "from sklearn.metrics import confusion_matrix \n",
    "from sklearn.metrics import accuracy_score \n",
    "from sklearn.metrics import classification_report \n",
    "\n",
    "classifier=RandomForestClassifier() #create classifier\n",
    "classifier=classifier.fit(X_train,y_train) #train our model\n",
    "predicted=classifier.predict(X_test) #predict our model\n",
    "\n",
    "#printing the results \n",
    "print ('Confusion Matrix :') \n",
    "print(confusion_matrix(y_test, predicted)) \n",
    "print ('Accuracy Score :',accuracy_score(y_test, predicted)) \n",
    "print ('Report : ') \n",
    "print (classification_report(y_test, predicted)) \n",
    "print ('Predict class for input [5.8, 2.8, 5.1, 2.4] : ',labelencoder_y.inverse_transform(classifier.predict([[5.8, 2.8, 5.1, 2.4]]))[0]) "
   ]
  },
  {
   "cell_type": "code",
   "execution_count": 6,
   "metadata": {},
   "outputs": [
    {
     "name": "stdout",
     "output_type": "stream",
     "text": [
      "[20:34:22] WARNING: C:/Users/Administrator/workspace/xgboost-win64_release_1.3.0/src/learner.cc:1061: Starting in XGBoost 1.3.0, the default evaluation metric used with the objective 'multi:softprob' was changed from 'merror' to 'mlogloss'. Explicitly set eval_metric if you'd like to restore the old behavior.\n",
      "Confusion Matrix :\n",
      "[[16  0  0]\n",
      " [ 0 17  1]\n",
      " [ 0  0 11]]\n",
      "Accuracy Score : 0.9777777777777777\n",
      "Report : \n",
      "              precision    recall  f1-score   support\n",
      "\n",
      "           0       1.00      1.00      1.00        16\n",
      "           1       1.00      0.94      0.97        18\n",
      "           2       0.92      1.00      0.96        11\n",
      "\n",
      "    accuracy                           0.98        45\n",
      "   macro avg       0.97      0.98      0.98        45\n",
      "weighted avg       0.98      0.98      0.98        45\n",
      "\n"
     ]
    },
    {
     "name": "stderr",
     "output_type": "stream",
     "text": [
      "c:\\users\\dell pc\\appdata\\local\\programs\\python\\python38\\lib\\site-packages\\xgboost\\sklearn.py:888: UserWarning: The use of label encoder in XGBClassifier is deprecated and will be removed in a future release. To remove this warning, do the following: 1) Pass option use_label_encoder=False when constructing XGBClassifier object; and 2) Encode your labels (y) as integers starting with 0, i.e. 0, 1, 2, ..., [num_class - 1].\n",
      "  warnings.warn(label_encoder_deprecation_msg, UserWarning)\n"
     ]
    }
   ],
   "source": [
    "#Using the xgboost classifier for the prediction \n",
    "from xgboost import XGBClassifier\n",
    "from sklearn.metrics import confusion_matrix \n",
    "from sklearn.metrics import accuracy_score \n",
    "from sklearn.metrics import classification_report \n",
    "\n",
    "classifier = XGBClassifier() #create classifier\n",
    "classifier=classifier.fit(X_train,y_train) #train our model\n",
    "predicted=classifier.predict(X_test) #predict our model\n",
    "\n",
    "#printing the results \n",
    "print ('Confusion Matrix :') \n",
    "print(confusion_matrix(y_test, predicted)) \n",
    "print ('Accuracy Score :',accuracy_score(y_test, predicted)) \n",
    "print ('Report : ') \n",
    "print (classification_report(y_test, predicted)) \n",
    "#print ('Predict class for input [5.8, 2.8, 5.1, 2.4] : ',labelencoder_y.inverse_transform(classifier.predict([[5.8, 2.8, 5.1, 2.4]])))"
   ]
  },
  {
   "cell_type": "code",
   "execution_count": 7,
   "metadata": {},
   "outputs": [
    {
     "name": "stdout",
     "output_type": "stream",
     "text": [
      "Confusion Matrix :\n",
      "[[16  0  0]\n",
      " [ 0 17  1]\n",
      " [ 0  0 11]]\n",
      "Accuracy Score : 0.9777777777777777\n",
      "Report : \n",
      "              precision    recall  f1-score   support\n",
      "\n",
      "           0       1.00      1.00      1.00        16\n",
      "           1       1.00      0.94      0.97        18\n",
      "           2       0.92      1.00      0.96        11\n",
      "\n",
      "    accuracy                           0.98        45\n",
      "   macro avg       0.97      0.98      0.98        45\n",
      "weighted avg       0.98      0.98      0.98        45\n",
      "\n",
      "Predict class for input [5.8, 2.8, 5.1, 2.4] :  Iris-virginica\n"
     ]
    }
   ],
   "source": [
    "#Using the Support Vector Machine classifier for the prediction \n",
    "\n",
    "from sklearn.svm import SVC\n",
    "from sklearn.metrics import confusion_matrix \n",
    "from sklearn.metrics import accuracy_score \n",
    "from sklearn.metrics import classification_report \n",
    "\n",
    "classifier = SVC() #create classifier\n",
    "classifier=classifier.fit(X_train,y_train) #train our model\n",
    "predicted=classifier.predict(X_test) #predict our model\n",
    "\n",
    "#printing the results \n",
    "print ('Confusion Matrix :') \n",
    "print(confusion_matrix(y_test, predicted)) \n",
    "print ('Accuracy Score :',accuracy_score(y_test, predicted)) \n",
    "print ('Report : ') \n",
    "print (classification_report(y_test, predicted)) \n",
    "print ('Predict class for input [5.8, 2.8, 5.1, 2.4] : ',labelencoder_y.inverse_transform(classifier.predict([[5.8, 2.8, 5.1, 2.4]]))[0]) "
   ]
  },
  {
   "cell_type": "code",
   "execution_count": 8,
   "metadata": {},
   "outputs": [
    {
     "name": "stdout",
     "output_type": "stream",
     "text": [
      "Confusion Matrix :\n",
      "[[16  0  0]\n",
      " [ 0 17  1]\n",
      " [ 0  0 11]]\n",
      "Accuracy Score : 0.9777777777777777\n",
      "Report : \n",
      "              precision    recall  f1-score   support\n",
      "\n",
      "           0       1.00      1.00      1.00        16\n",
      "           1       1.00      0.94      0.97        18\n",
      "           2       0.92      1.00      0.96        11\n",
      "\n",
      "    accuracy                           0.98        45\n",
      "   macro avg       0.97      0.98      0.98        45\n",
      "weighted avg       0.98      0.98      0.98        45\n",
      "\n",
      "Predict class for input [5.8, 2.8, 5.1, 2.4] :  Iris-virginica\n"
     ]
    }
   ],
   "source": [
    "#Using the Nearest Neighbors classifier for the prediction \n",
    "\n",
    "from sklearn import neighbors\n",
    "from sklearn.metrics import confusion_matrix \n",
    "from sklearn.metrics import accuracy_score \n",
    "from sklearn.metrics import classification_report \n",
    "\n",
    "classifier = neighbors.KNeighborsClassifier() #create classifier\n",
    "classifier=classifier.fit(X_train,y_train) #train our model\n",
    "predicted=classifier.predict(X_test) #predict our model\n",
    "\n",
    "#printing the results \n",
    "print ('Confusion Matrix :') \n",
    "print(confusion_matrix(y_test, predicted)) \n",
    "print ('Accuracy Score :',accuracy_score(y_test, predicted)) \n",
    "print ('Report : ') \n",
    "print (classification_report(y_test, predicted)) \n",
    "print ('Predict class for input [5.8, 2.8, 5.1, 2.4] : ',labelencoder_y.inverse_transform(classifier.predict([[5.8, 2.8, 5.1, 2.4]]))[0]) "
   ]
  },
  {
   "cell_type": "code",
   "execution_count": 9,
   "metadata": {},
   "outputs": [
    {
     "name": "stdout",
     "output_type": "stream",
     "text": [
      "Confusion Matrix :\n",
      "[[16  0  0]\n",
      " [ 0 17  1]\n",
      " [ 0  0 11]]\n",
      "Accuracy Score : 0.9777777777777777\n",
      "Report : \n",
      "              precision    recall  f1-score   support\n",
      "\n",
      "           0       1.00      1.00      1.00        16\n",
      "           1       1.00      0.94      0.97        18\n",
      "           2       0.92      1.00      0.96        11\n",
      "\n",
      "    accuracy                           0.98        45\n",
      "   macro avg       0.97      0.98      0.98        45\n",
      "weighted avg       0.98      0.98      0.98        45\n",
      "\n",
      "Predict class for input [5.8, 2.8, 5.1, 2.4] :  Iris-virginica\n"
     ]
    }
   ],
   "source": [
    "#Using the Decision Tree for the prediction \n",
    "\n",
    "from sklearn import tree\n",
    "from sklearn.metrics import confusion_matrix \n",
    "from sklearn.metrics import accuracy_score \n",
    "from sklearn.metrics import classification_report \n",
    "\n",
    "classifier = tree.DecisionTreeClassifier(criterion='entropy', max_depth=5) #create classifier\n",
    "classifier=classifier.fit(X_train,y_train) #train our model\n",
    "predicted=classifier.predict(X_test) #predict our model\n",
    "\n",
    "#printing the results \n",
    "print ('Confusion Matrix :') \n",
    "print(confusion_matrix(y_test, predicted)) \n",
    "print ('Accuracy Score :',accuracy_score(y_test, predicted)) \n",
    "print ('Report : ') \n",
    "print (classification_report(y_test, predicted)) \n",
    "print ('Predict class for input [5.8, 2.8, 5.1, 2.4] : ',labelencoder_y.inverse_transform(classifier.predict([[5.8, 2.8, 5.1, 2.4]]))[0]) "
   ]
  },
  {
   "cell_type": "code",
   "execution_count": 10,
   "metadata": {},
   "outputs": [
    {
     "name": "stdout",
     "output_type": "stream",
     "text": [
      "Confusion Matrix :\n",
      "[[16  0  0]\n",
      " [ 0 15  3]\n",
      " [ 0  0 11]]\n",
      "Accuracy Score : 0.9333333333333333\n",
      "Report : \n",
      "              precision    recall  f1-score   support\n",
      "\n",
      "           0       1.00      1.00      1.00        16\n",
      "           1       1.00      0.83      0.91        18\n",
      "           2       0.79      1.00      0.88        11\n",
      "\n",
      "    accuracy                           0.93        45\n",
      "   macro avg       0.93      0.94      0.93        45\n",
      "weighted avg       0.95      0.93      0.93        45\n",
      "\n",
      "Predict class for input [5.8, 2.8, 5.1, 2.4] :  Iris-virginica\n"
     ]
    }
   ],
   "source": [
    "#Using the SGD Classifier for the prediction \n",
    "\n",
    "from sklearn.linear_model import SGDClassifier\n",
    "from sklearn.multiclass import OneVsRestClassifier\n",
    "from sklearn.metrics import confusion_matrix \n",
    "from sklearn.metrics import accuracy_score \n",
    "from sklearn.metrics import classification_report \n",
    "\n",
    "classifier = OneVsRestClassifier(SGDClassifier()) #create classifier\n",
    "classifier=classifier.fit(X_train,y_train) #train our model\n",
    "predicted=classifier.predict(X_test) #predict our model\n",
    "\n",
    "#printing the results \n",
    "print ('Confusion Matrix :') \n",
    "print(confusion_matrix(y_test, predicted)) \n",
    "print ('Accuracy Score :',accuracy_score(y_test, predicted)) \n",
    "print ('Report : ') \n",
    "print (classification_report(y_test, predicted)) \n",
    "print ('Predict class for input [5.8, 2.8, 5.1, 2.4] : ',labelencoder_y.inverse_transform(classifier.predict([[5.8, 2.8, 5.1, 2.4]]))[0]) "
   ]
  },
  {
   "cell_type": "code",
   "execution_count": 11,
   "metadata": {},
   "outputs": [
    {
     "name": "stdout",
     "output_type": "stream",
     "text": [
      "Confusion Matrix :\n",
      "[[16  0  0]\n",
      " [ 0 18  0]\n",
      " [ 0  0 11]]\n",
      "Accuracy Score : 1.0\n",
      "Report : \n",
      "              precision    recall  f1-score   support\n",
      "\n",
      "           0       1.00      1.00      1.00        16\n",
      "           1       1.00      1.00      1.00        18\n",
      "           2       1.00      1.00      1.00        11\n",
      "\n",
      "    accuracy                           1.00        45\n",
      "   macro avg       1.00      1.00      1.00        45\n",
      "weighted avg       1.00      1.00      1.00        45\n",
      "\n",
      "Predict class for input [5.8, 2.8, 5.1, 2.4] :  Iris-virginica\n"
     ]
    }
   ],
   "source": [
    "#Using the Gaussian Naive Bayes for the prediction \n",
    "\n",
    "from sklearn.naive_bayes import GaussianNB\n",
    "from sklearn.metrics import confusion_matrix \n",
    "from sklearn.metrics import accuracy_score \n",
    "from sklearn.metrics import classification_report \n",
    "\n",
    "classifier = GaussianNB() #create classifier\n",
    "classifier=classifier.fit(X_train,y_train) #train our model\n",
    "predicted=classifier.predict(X_test) #predict our model\n",
    "\n",
    "#printing the results \n",
    "print ('Confusion Matrix :') \n",
    "print(confusion_matrix(y_test, predicted)) \n",
    "print ('Accuracy Score :',accuracy_score(y_test, predicted)) \n",
    "print ('Report : ') \n",
    "print (classification_report(y_test, predicted)) \n",
    "print ('Predict class for input [5.8, 2.8, 5.1, 2.4] : ',labelencoder_y.inverse_transform(classifier.predict([[5.8, 2.8, 5.1, 2.4]]))[0]) "
   ]
  },
  {
   "cell_type": "code",
   "execution_count": 12,
   "metadata": {},
   "outputs": [
    {
     "name": "stdout",
     "output_type": "stream",
     "text": [
      "Confusion Matrix :\n",
      "[[16  0  0]\n",
      " [ 0 16  2]\n",
      " [ 0  0 11]]\n",
      "Accuracy Score : 0.9555555555555556\n",
      "Report : \n",
      "              precision    recall  f1-score   support\n",
      "\n",
      "           0       1.00      1.00      1.00        16\n",
      "           1       1.00      0.89      0.94        18\n",
      "           2       0.85      1.00      0.92        11\n",
      "\n",
      "    accuracy                           0.96        45\n",
      "   macro avg       0.95      0.96      0.95        45\n",
      "weighted avg       0.96      0.96      0.96        45\n",
      "\n",
      "Predict class for input [5.8, 2.8, 5.1, 2.4] :  Iris-virginica\n"
     ]
    },
    {
     "name": "stderr",
     "output_type": "stream",
     "text": [
      "c:\\users\\dell pc\\appdata\\local\\programs\\python\\python38\\lib\\site-packages\\sklearn\\neural_network\\_multilayer_perceptron.py:614: ConvergenceWarning: Stochastic Optimizer: Maximum iterations (200) reached and the optimization hasn't converged yet.\n",
      "  warnings.warn(\n"
     ]
    }
   ],
   "source": [
    "#Using the Neural network - Multi-layer Perceptron for the prediction \n",
    "\n",
    "from sklearn.neural_network import MLPClassifier\n",
    "from sklearn.metrics import confusion_matrix \n",
    "from sklearn.metrics import accuracy_score \n",
    "from sklearn.metrics import classification_report \n",
    "\n",
    "classifier = MLPClassifier() #create classifier\n",
    "classifier=classifier.fit(X_train,y_train) #train our model\n",
    "predicted=classifier.predict(X_test) #predict our model\n",
    "\n",
    "#printing the results \n",
    "print ('Confusion Matrix :') \n",
    "print(confusion_matrix(y_test, predicted)) \n",
    "print ('Accuracy Score :',accuracy_score(y_test, predicted)) \n",
    "print ('Report : ') \n",
    "print (classification_report(y_test, predicted)) \n",
    "print ('Predict class for input [5.8, 2.8, 5.1, 2.4] : ',labelencoder_y.inverse_transform(classifier.predict([[5.8, 2.8, 5.1, 2.4]]))[0]) "
   ]
  },
  {
   "cell_type": "code",
   "execution_count": 13,
   "metadata": {},
   "outputs": [
    {
     "name": "stdout",
     "output_type": "stream",
     "text": [
      "Confusion Matrix :\n",
      "[[16  0  0]\n",
      " [ 0 17  1]\n",
      " [ 0  0 11]]\n",
      "Accuracy Score : 0.9777777777777777\n",
      "Report : \n",
      "              precision    recall  f1-score   support\n",
      "\n",
      "           0       1.00      1.00      1.00        16\n",
      "           1       1.00      0.94      0.97        18\n",
      "           2       0.92      1.00      0.96        11\n",
      "\n",
      "    accuracy                           0.98        45\n",
      "   macro avg       0.97      0.98      0.98        45\n",
      "weighted avg       0.98      0.98      0.98        45\n",
      "\n",
      "Predict class for input [5.8, 2.8, 5.1, 2.4] :  Iris-virginica\n"
     ]
    }
   ],
   "source": [
    "#Using the Gaussian Process Classifier for the prediction \n",
    "\n",
    "from sklearn.gaussian_process import GaussianProcessClassifier\n",
    "from sklearn.metrics import confusion_matrix \n",
    "from sklearn.metrics import accuracy_score \n",
    "from sklearn.metrics import classification_report \n",
    "\n",
    "classifier = GaussianProcessClassifier() #create classifier\n",
    "classifier=classifier.fit(X_train,y_train) #train our model\n",
    "predicted=classifier.predict(X_test) #predict our model\n",
    "\n",
    "#printing the results \n",
    "print ('Confusion Matrix :') \n",
    "print(confusion_matrix(y_test, predicted)) \n",
    "print ('Accuracy Score :',accuracy_score(y_test, predicted)) \n",
    "print ('Report : ') \n",
    "print (classification_report(y_test, predicted)) \n",
    "print ('Predict class for input [5.8, 2.8, 5.1, 2.4] : ',labelencoder_y.inverse_transform(classifier.predict([[5.8, 2.8, 5.1, 2.4]]))[0]) "
   ]
  }
 ],
 "metadata": {
  "kernelspec": {
   "display_name": "Python 3",
   "language": "python",
   "name": "python3"
  },
  "language_info": {
   "codemirror_mode": {
    "name": "ipython",
    "version": 3
   },
   "file_extension": ".py",
   "mimetype": "text/x-python",
   "name": "python",
   "nbconvert_exporter": "python",
   "pygments_lexer": "ipython3",
   "version": "3.8.3"
  }
 },
 "nbformat": 4,
 "nbformat_minor": 4
}
